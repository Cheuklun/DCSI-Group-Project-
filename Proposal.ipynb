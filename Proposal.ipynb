{
 "cells": [
  {
   "cell_type": "markdown",
   "id": "27a5b9ce-6f6d-47c2-92ac-817131447a41",
   "metadata": {},
   "source": []
  },
  {
   "cell_type": "code",
   "execution_count": null,
   "id": "73b7f5fb-7bfe-44dd-aa57-b6c4ec7fe65c",
   "metadata": {
    "vscode": {
     "languageId": "r"
    }
   },
   "outputs": [
    {
     "name": "stderr",
     "output_type": "stream",
     "text": [
      "── \u001b[1mAttaching packages\u001b[22m ─────────────────────────────────────── tidyverse 1.3.1 ──\n",
      "\n",
      "\u001b[32m✔\u001b[39m \u001b[34mggplot2\u001b[39m 3.3.6     \u001b[32m✔\u001b[39m \u001b[34mpurrr  \u001b[39m 0.3.4\n",
      "\u001b[32m✔\u001b[39m \u001b[34mtibble \u001b[39m 3.1.7     \u001b[32m✔\u001b[39m \u001b[34mdplyr  \u001b[39m 1.0.9\n",
      "\u001b[32m✔\u001b[39m \u001b[34mtidyr  \u001b[39m 1.2.0     \u001b[32m✔\u001b[39m \u001b[34mstringr\u001b[39m 1.4.0\n",
      "\u001b[32m✔\u001b[39m \u001b[34mreadr  \u001b[39m 2.1.2     \u001b[32m✔\u001b[39m \u001b[34mforcats\u001b[39m 0.5.1\n",
      "\n",
      "── \u001b[1mConflicts\u001b[22m ────────────────────────────────────────── tidyverse_conflicts() ──\n",
      "\u001b[31m✖\u001b[39m \u001b[34mdplyr\u001b[39m::\u001b[32mfilter()\u001b[39m masks \u001b[34mstats\u001b[39m::filter()\n",
      "\u001b[31m✖\u001b[39m \u001b[34mdplyr\u001b[39m::\u001b[32mlag()\u001b[39m    masks \u001b[34mstats\u001b[39m::lag()\n",
      "\n",
      "── \u001b[1mAttaching packages\u001b[22m ────────────────────────────────────── tidymodels 1.0.0 ──\n",
      "\n",
      "\u001b[32m✔\u001b[39m \u001b[34mbroom       \u001b[39m 1.0.0     \u001b[32m✔\u001b[39m \u001b[34mrsample     \u001b[39m 1.0.0\n",
      "\u001b[32m✔\u001b[39m \u001b[34mdials       \u001b[39m 1.0.0     \u001b[32m✔\u001b[39m \u001b[34mtune        \u001b[39m 1.0.0\n",
      "\u001b[32m✔\u001b[39m \u001b[34minfer       \u001b[39m 1.0.2     \u001b[32m✔\u001b[39m \u001b[34mworkflows   \u001b[39m 1.0.0\n",
      "\u001b[32m✔\u001b[39m \u001b[34mmodeldata   \u001b[39m 1.0.0     \u001b[32m✔\u001b[39m \u001b[34mworkflowsets\u001b[39m 1.0.0\n",
      "\u001b[32m✔\u001b[39m \u001b[34mparsnip     \u001b[39m 1.0.0     \u001b[32m✔\u001b[39m \u001b[34myardstick   \u001b[39m 1.0.0\n",
      "\u001b[32m✔\u001b[39m \u001b[34mrecipes     \u001b[39m 1.0.1     \n",
      "\n",
      "── \u001b[1mConflicts\u001b[22m ───────────────────────────────────────── tidymodels_conflicts() ──\n",
      "\u001b[31m✖\u001b[39m \u001b[34mscales\u001b[39m::\u001b[32mdiscard()\u001b[39m masks \u001b[34mpurrr\u001b[39m::discard()\n",
      "\u001b[31m✖\u001b[39m \u001b[34mdplyr\u001b[39m::\u001b[32mfilter()\u001b[39m   masks \u001b[34mstats\u001b[39m::filter()\n",
      "\u001b[31m✖\u001b[39m \u001b[34mrecipes\u001b[39m::\u001b[32mfixed()\u001b[39m  masks \u001b[34mstringr\u001b[39m::fixed()\n",
      "\u001b[31m✖\u001b[39m \u001b[34mdplyr\u001b[39m::\u001b[32mlag()\u001b[39m      masks \u001b[34mstats\u001b[39m::lag()\n",
      "\u001b[31m✖\u001b[39m \u001b[34myardstick\u001b[39m::\u001b[32mspec()\u001b[39m masks \u001b[34mreadr\u001b[39m::spec()\n",
      "\u001b[31m✖\u001b[39m \u001b[34mrecipes\u001b[39m::\u001b[32mstep()\u001b[39m   masks \u001b[34mstats\u001b[39m::step()\n",
      "\u001b[34m•\u001b[39m Dig deeper into tidy modeling with R at \u001b[32mhttps://www.tmwr.org\u001b[39m\n",
      "\n"
     ]
    }
   ],
   "source": [
    "library(tidyverse)\n",
    "library(repr)\n",
    "library(tidymodels)\n",
    "options(repr.matrix.max.rows = 6)"
   ]
  },
  {
   "cell_type": "code",
   "execution_count": null,
   "id": "9ff057b6-9c7b-4e34-a07f-a18459490749",
   "metadata": {
    "vscode": {
     "languageId": "r"
    }
   },
   "outputs": [
    {
     "name": "stderr",
     "output_type": "stream",
     "text": [
      "\u001b[1mRows: \u001b[22m\u001b[34m8378\u001b[39m \u001b[1mColumns: \u001b[22m\u001b[34m195\u001b[39m\n",
      "\u001b[36m──\u001b[39m \u001b[1mColumn specification\u001b[22m \u001b[36m────────────────────────────────────────────────────────\u001b[39m\n",
      "\u001b[1mDelimiter:\u001b[22m \",\"\n",
      "\u001b[31mchr\u001b[39m   (4): field, undergra, from, career\n",
      "\u001b[32mdbl\u001b[39m (187): iid, id, gender, idg, condtn, wave, round, position, positin1, or...\n",
      "\n",
      "\u001b[36mℹ\u001b[39m Use `spec()` to retrieve the full column specification for this data.\n",
      "\u001b[36mℹ\u001b[39m Specify the column types or set `show_col_types = FALSE` to quiet this message.\n"
     ]
    },
    {
     "data": {
      "text/html": [
       "<table class=\"dataframe\">\n",
       "<caption>A spec_tbl_df: 8378 × 195</caption>\n",
       "<thead>\n",
       "\t<tr><th scope=col>iid</th><th scope=col>id</th><th scope=col>gender</th><th scope=col>idg</th><th scope=col>condtn</th><th scope=col>wave</th><th scope=col>round</th><th scope=col>position</th><th scope=col>positin1</th><th scope=col>order</th><th scope=col>⋯</th><th scope=col>attr3_3</th><th scope=col>sinc3_3</th><th scope=col>intel3_3</th><th scope=col>fun3_3</th><th scope=col>amb3_3</th><th scope=col>attr5_3</th><th scope=col>sinc5_3</th><th scope=col>intel5_3</th><th scope=col>fun5_3</th><th scope=col>amb5_3</th></tr>\n",
       "\t<tr><th scope=col>&lt;dbl&gt;</th><th scope=col>&lt;dbl&gt;</th><th scope=col>&lt;dbl&gt;</th><th scope=col>&lt;dbl&gt;</th><th scope=col>&lt;dbl&gt;</th><th scope=col>&lt;dbl&gt;</th><th scope=col>&lt;dbl&gt;</th><th scope=col>&lt;dbl&gt;</th><th scope=col>&lt;dbl&gt;</th><th scope=col>&lt;dbl&gt;</th><th scope=col>⋯</th><th scope=col>&lt;dbl&gt;</th><th scope=col>&lt;dbl&gt;</th><th scope=col>&lt;dbl&gt;</th><th scope=col>&lt;dbl&gt;</th><th scope=col>&lt;dbl&gt;</th><th scope=col>&lt;dbl&gt;</th><th scope=col>&lt;dbl&gt;</th><th scope=col>&lt;dbl&gt;</th><th scope=col>&lt;dbl&gt;</th><th scope=col>&lt;dbl&gt;</th></tr>\n",
       "</thead>\n",
       "<tbody>\n",
       "\t<tr><td>1</td><td>1</td><td>0</td><td>1</td><td>1</td><td>1</td><td>10</td><td>7</td><td>NA</td><td> 4</td><td>⋯</td><td>5</td><td>7</td><td>7</td><td>7</td><td>7</td><td>NA</td><td>NA</td><td>NA</td><td>NA</td><td>NA</td></tr>\n",
       "\t<tr><td>1</td><td>1</td><td>0</td><td>1</td><td>1</td><td>1</td><td>10</td><td>7</td><td>NA</td><td> 3</td><td>⋯</td><td>5</td><td>7</td><td>7</td><td>7</td><td>7</td><td>NA</td><td>NA</td><td>NA</td><td>NA</td><td>NA</td></tr>\n",
       "\t<tr><td>1</td><td>1</td><td>0</td><td>1</td><td>1</td><td>1</td><td>10</td><td>7</td><td>NA</td><td>10</td><td>⋯</td><td>5</td><td>7</td><td>7</td><td>7</td><td>7</td><td>NA</td><td>NA</td><td>NA</td><td>NA</td><td>NA</td></tr>\n",
       "\t<tr><td>⋮</td><td>⋮</td><td>⋮</td><td>⋮</td><td>⋮</td><td>⋮</td><td>⋮</td><td>⋮</td><td>⋮</td><td>⋮</td><td>⋱</td><td>⋮</td><td>⋮</td><td>⋮</td><td>⋮</td><td>⋮</td><td>⋮</td><td>⋮</td><td>⋮</td><td>⋮</td><td>⋮</td></tr>\n",
       "\t<tr><td>552</td><td>22</td><td>1</td><td>44</td><td>2</td><td>21</td><td>22</td><td>19</td><td>10</td><td>10</td><td>⋯</td><td>8</td><td>5</td><td>7</td><td>6</td><td>7</td><td>9</td><td>5</td><td>9</td><td>5</td><td>6</td></tr>\n",
       "\t<tr><td>552</td><td>22</td><td>1</td><td>44</td><td>2</td><td>21</td><td>22</td><td> 3</td><td>10</td><td>16</td><td>⋯</td><td>8</td><td>5</td><td>7</td><td>6</td><td>7</td><td>9</td><td>5</td><td>9</td><td>5</td><td>6</td></tr>\n",
       "\t<tr><td>552</td><td>NA</td><td>1</td><td>44</td><td>2</td><td>21</td><td>22</td><td> 2</td><td>10</td><td>15</td><td>⋯</td><td>8</td><td>5</td><td>7</td><td>6</td><td>7</td><td>9</td><td>5</td><td>9</td><td>5</td><td>6</td></tr>\n",
       "</tbody>\n",
       "</table>\n"
      ],
      "text/latex": [
       "A spec\\_tbl\\_df: 8378 × 195\n",
       "\\begin{tabular}{lllllllllllllllllllll}\n",
       " iid & id & gender & idg & condtn & wave & round & position & positin1 & order & ⋯ & attr3\\_3 & sinc3\\_3 & intel3\\_3 & fun3\\_3 & amb3\\_3 & attr5\\_3 & sinc5\\_3 & intel5\\_3 & fun5\\_3 & amb5\\_3\\\\\n",
       " <dbl> & <dbl> & <dbl> & <dbl> & <dbl> & <dbl> & <dbl> & <dbl> & <dbl> & <dbl> & ⋯ & <dbl> & <dbl> & <dbl> & <dbl> & <dbl> & <dbl> & <dbl> & <dbl> & <dbl> & <dbl>\\\\\n",
       "\\hline\n",
       "\t 1 & 1 & 0 & 1 & 1 & 1 & 10 & 7 & NA &  4 & ⋯ & 5 & 7 & 7 & 7 & 7 & NA & NA & NA & NA & NA\\\\\n",
       "\t 1 & 1 & 0 & 1 & 1 & 1 & 10 & 7 & NA &  3 & ⋯ & 5 & 7 & 7 & 7 & 7 & NA & NA & NA & NA & NA\\\\\n",
       "\t 1 & 1 & 0 & 1 & 1 & 1 & 10 & 7 & NA & 10 & ⋯ & 5 & 7 & 7 & 7 & 7 & NA & NA & NA & NA & NA\\\\\n",
       "\t ⋮ & ⋮ & ⋮ & ⋮ & ⋮ & ⋮ & ⋮ & ⋮ & ⋮ & ⋮ & ⋱ & ⋮ & ⋮ & ⋮ & ⋮ & ⋮ & ⋮ & ⋮ & ⋮ & ⋮ & ⋮\\\\\n",
       "\t 552 & 22 & 1 & 44 & 2 & 21 & 22 & 19 & 10 & 10 & ⋯ & 8 & 5 & 7 & 6 & 7 & 9 & 5 & 9 & 5 & 6\\\\\n",
       "\t 552 & 22 & 1 & 44 & 2 & 21 & 22 &  3 & 10 & 16 & ⋯ & 8 & 5 & 7 & 6 & 7 & 9 & 5 & 9 & 5 & 6\\\\\n",
       "\t 552 & NA & 1 & 44 & 2 & 21 & 22 &  2 & 10 & 15 & ⋯ & 8 & 5 & 7 & 6 & 7 & 9 & 5 & 9 & 5 & 6\\\\\n",
       "\\end{tabular}\n"
      ],
      "text/markdown": [
       "\n",
       "A spec_tbl_df: 8378 × 195\n",
       "\n",
       "| iid &lt;dbl&gt; | id &lt;dbl&gt; | gender &lt;dbl&gt; | idg &lt;dbl&gt; | condtn &lt;dbl&gt; | wave &lt;dbl&gt; | round &lt;dbl&gt; | position &lt;dbl&gt; | positin1 &lt;dbl&gt; | order &lt;dbl&gt; | ⋯ ⋯ | attr3_3 &lt;dbl&gt; | sinc3_3 &lt;dbl&gt; | intel3_3 &lt;dbl&gt; | fun3_3 &lt;dbl&gt; | amb3_3 &lt;dbl&gt; | attr5_3 &lt;dbl&gt; | sinc5_3 &lt;dbl&gt; | intel5_3 &lt;dbl&gt; | fun5_3 &lt;dbl&gt; | amb5_3 &lt;dbl&gt; |\n",
       "|---|---|---|---|---|---|---|---|---|---|---|---|---|---|---|---|---|---|---|---|---|\n",
       "| 1 | 1 | 0 | 1 | 1 | 1 | 10 | 7 | NA |  4 | ⋯ | 5 | 7 | 7 | 7 | 7 | NA | NA | NA | NA | NA |\n",
       "| 1 | 1 | 0 | 1 | 1 | 1 | 10 | 7 | NA |  3 | ⋯ | 5 | 7 | 7 | 7 | 7 | NA | NA | NA | NA | NA |\n",
       "| 1 | 1 | 0 | 1 | 1 | 1 | 10 | 7 | NA | 10 | ⋯ | 5 | 7 | 7 | 7 | 7 | NA | NA | NA | NA | NA |\n",
       "| ⋮ | ⋮ | ⋮ | ⋮ | ⋮ | ⋮ | ⋮ | ⋮ | ⋮ | ⋮ | ⋱ | ⋮ | ⋮ | ⋮ | ⋮ | ⋮ | ⋮ | ⋮ | ⋮ | ⋮ | ⋮ |\n",
       "| 552 | 22 | 1 | 44 | 2 | 21 | 22 | 19 | 10 | 10 | ⋯ | 8 | 5 | 7 | 6 | 7 | 9 | 5 | 9 | 5 | 6 |\n",
       "| 552 | 22 | 1 | 44 | 2 | 21 | 22 |  3 | 10 | 16 | ⋯ | 8 | 5 | 7 | 6 | 7 | 9 | 5 | 9 | 5 | 6 |\n",
       "| 552 | NA | 1 | 44 | 2 | 21 | 22 |  2 | 10 | 15 | ⋯ | 8 | 5 | 7 | 6 | 7 | 9 | 5 | 9 | 5 | 6 |\n",
       "\n"
      ],
      "text/plain": [
       "     iid id gender idg condtn wave round position positin1 order ⋯ attr3_3\n",
       "1    1   1  0      1   1      1    10    7        NA        4    ⋯ 5      \n",
       "2    1   1  0      1   1      1    10    7        NA        3    ⋯ 5      \n",
       "3    1   1  0      1   1      1    10    7        NA       10    ⋯ 5      \n",
       "⋮    ⋮   ⋮  ⋮      ⋮   ⋮      ⋮    ⋮     ⋮        ⋮        ⋮     ⋱ ⋮      \n",
       "8376 552 22 1      44  2      21   22    19       10       10    ⋯ 8      \n",
       "8377 552 22 1      44  2      21   22     3       10       16    ⋯ 8      \n",
       "8378 552 NA 1      44  2      21   22     2       10       15    ⋯ 8      \n",
       "     sinc3_3 intel3_3 fun3_3 amb3_3 attr5_3 sinc5_3 intel5_3 fun5_3 amb5_3\n",
       "1    7       7        7      7      NA      NA      NA       NA     NA    \n",
       "2    7       7        7      7      NA      NA      NA       NA     NA    \n",
       "3    7       7        7      7      NA      NA      NA       NA     NA    \n",
       "⋮    ⋮       ⋮        ⋮      ⋮      ⋮       ⋮       ⋮        ⋮      ⋮     \n",
       "8376 5       7        6      7      9       5       9        5      6     \n",
       "8377 5       7        6      7      9       5       9        5      6     \n",
       "8378 5       7        6      7      9       5       9        5      6     "
      ]
     },
     "metadata": {},
     "output_type": "display_data"
    }
   ],
   "source": [
    "speed_data <- read_csv(\"Speed Dating Data.csv\")\n",
    "speed_data"
   ]
  },
  {
   "cell_type": "code",
   "execution_count": null,
   "id": "589b514d-39d4-4594-a13b-7dd2c77055bd",
   "metadata": {
    "vscode": {
     "languageId": "r"
    }
   },
   "outputs": [],
   "source": [
    "speed_data_select<-select(speed_data, gender, age_o, age)\n",
    "speed_data_select"
   ]
  },
  {
   "cell_type": "code",
   "execution_count": null,
   "id": "9c372a92",
   "metadata": {
    "vscode": {
     "languageId": "r"
    }
   },
   "outputs": [],
   "source": [
    "speed_split<-initial_split(speed_data_select, prop=0.75, strata=age)\n",
    "speed_training<-training(speed_split)\n",
    "speed_testing<-testing(speed_split)"
   ]
  },
  {
   "cell_type": "code",
   "execution_count": null,
   "id": "af374ed1",
   "metadata": {
    "vscode": {
     "languageId": "r"
    }
   },
   "outputs": [],
   "source": [
    "nrow(speed_training)\n",
    "\n",
    "group_by(gender)|>\n",
    "#summarize(....)\n",
    "\n",
    "speed_dating_plot<-ggplot(speed_training, aes(x=age, y=age_o, color=...))+\n",
    "geom_point()+\n",
    "xlab(\"Age of self\")+\n",
    "ylab(\"Age of partner\")+\n",
    "labs(color=....)+\n",
    "theme(text=element_text(size=12))"
   ]
  }
 ],
 "metadata": {
  "kernelspec": {
   "display_name": "R",
   "language": "R",
   "name": "ir"
  },
  "language_info": {
   "codemirror_mode": "r",
   "file_extension": ".r",
   "mimetype": "text/x-r-source",
   "name": "R",
   "pygments_lexer": "r",
   "version": "4.1.3"
  }
 },
 "nbformat": 4,
 "nbformat_minor": 5
}
